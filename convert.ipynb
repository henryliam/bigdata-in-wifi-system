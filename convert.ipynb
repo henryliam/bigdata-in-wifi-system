{
 "cells": [
  {
   "cell_type": "code",
   "execution_count": 16,
   "metadata": {},
   "outputs": [],
   "source": [
    "import pandas as pd"
   ]
  },
  {
   "cell_type": "code",
   "execution_count": 6,
   "metadata": {},
   "outputs": [],
   "source": [
    "import os  \n",
    "#获取目标文件夹的路径  \n",
    "meragefiledir1 =r'C:\\Users\\dell\\Documents\\bia678\\markov chain\\a1'\n",
    "#获取当前文件夹中的文件名称列表  \n",
    "filenames1=os.listdir(meragefiledir1)\n",
    "\n",
    "meragefiledir2 =r'C:\\Users\\dell\\Documents\\bia678\\markov chain\\a2'\n",
    "#获取当前文件夹中的文件名称列表  \n",
    "filenames2=os.listdir(meragefiledir2)\n",
    "\n",
    "meragefiledir3 =r'C:\\Users\\dell\\Documents\\bia678\\markov chain\\a3'\n",
    "#获取当前文件夹中的文件名称列表  \n",
    "filenames3=os.listdir(meragefiledir3)"
   ]
  },
  {
   "cell_type": "code",
   "execution_count": 18,
   "metadata": {},
   "outputs": [
    {
     "name": "stderr",
     "output_type": "stream",
     "text": [
      "C:\\Users\\dell\\Anaconda3\\lib\\site-packages\\ipykernel_launcher.py:7: SettingWithCopyWarning: \n",
      "A value is trying to be set on a copy of a slice from a DataFrame\n",
      "\n",
      "See the caveats in the documentation: http://pandas.pydata.org/pandas-docs/stable/user_guide/indexing.html#returning-a-view-versus-a-copy\n",
      "  import sys\n"
     ]
    }
   ],
   "source": [
    "\n",
    "\n",
    "\n",
    "\n",
    "for i in range(len(filenames1)):\n",
    "    df_markov_1=pd.read_csv(r'C:\\Users\\dell\\Documents\\bia678\\markov chain\\a2\\\\'+filenames2[i])\n",
    "    df_markov_2=pd.read_csv(r'C:\\Users\\dell\\Documents\\bia678\\markov chain\\a1\\\\'+filenames1[i])\n",
    "    markov_emission=pd.read_csv(r'C:\\Users\\dell\\Documents\\bia678\\markov chain\\a3\\\\'+filenames3[i])                                                                                   \n",
    "    for index,row in markov_emission.iterrows():\n",
    "        for index1,row1 in df_markov_2.iterrows():\n",
    "            markov_emission[row1['observation']][row1['hidden']]=row1['prob']\n",
    "    markov_emission.to_csv(r'C:\\Users\\dell\\Documents\\bia678\\markov chain\\a4\\\\'+filenames3[i])"
   ]
  },
  {
   "cell_type": "code",
   "execution_count": 5,
   "metadata": {},
   "outputs": [],
   "source": [
    "df_markov_1=pd.read_csv(r'C:\\Users\\dell\\Documents\\bia678\\markov chain\\a2\\\\"
   ]
  },
  {
   "cell_type": "code",
   "execution_count": null,
   "metadata": {},
   "outputs": [],
   "source": []
  },
  {
   "cell_type": "code",
   "execution_count": null,
   "metadata": {},
   "outputs": [],
   "source": []
  },
  {
   "cell_type": "code",
   "execution_count": null,
   "metadata": {},
   "outputs": [],
   "source": []
  },
  {
   "cell_type": "code",
   "execution_count": null,
   "metadata": {},
   "outputs": [],
   "source": []
  },
  {
   "cell_type": "code",
   "execution_count": null,
   "metadata": {},
   "outputs": [],
   "source": []
  },
  {
   "cell_type": "code",
   "execution_count": null,
   "metadata": {},
   "outputs": [],
   "source": []
  }
 ],
 "metadata": {
  "kernelspec": {
   "display_name": "Python 3",
   "language": "python",
   "name": "python3"
  },
  "language_info": {
   "codemirror_mode": {
    "name": "ipython",
    "version": 3
   },
   "file_extension": ".py",
   "mimetype": "text/x-python",
   "name": "python",
   "nbconvert_exporter": "python",
   "pygments_lexer": "ipython3",
   "version": "3.7.4"
  }
 },
 "nbformat": 4,
 "nbformat_minor": 4
}
