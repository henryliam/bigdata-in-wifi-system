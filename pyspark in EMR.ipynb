{
 "cells": [
  {
   "cell_type": "code",
   "execution_count": 1,
   "metadata": {},
   "outputs": [
    {
     "data": {
      "application/vnd.jupyter.widget-view+json": {
       "model_id": "a9a08fc8bd294a4b8077a6db0e86a0fb",
       "version_major": 2,
       "version_minor": 0
      },
      "text/plain": [
       "VBox()"
      ]
     },
     "metadata": {},
     "output_type": "display_data"
    },
    {
     "name": "stdout",
     "output_type": "stream",
     "text": [
      "Starting Spark application\n"
     ]
    },
    {
     "data": {
      "text/html": [
       "<table>\n",
       "<tr><th>ID</th><th>YARN Application ID</th><th>Kind</th><th>State</th><th>Spark UI</th><th>Driver log</th><th>Current session?</th></tr><tr><td>0</td><td>application_1575218512374_0001</td><td>pyspark</td><td>idle</td><td><a target=\"_blank\" href=\"http://ip-172-31-89-105.ec2.internal:20888/proxy/application_1575218512374_0001/\">Link</a></td><td><a target=\"_blank\" href=\"http://ip-172-31-90-97.ec2.internal:8042/node/containerlogs/container_1575218512374_0001_01_000001/livy\">Link</a></td><td>✔</td></tr></table>"
      ],
      "text/plain": [
       "<IPython.core.display.HTML object>"
      ]
     },
     "metadata": {},
     "output_type": "display_data"
    },
    {
     "data": {
      "application/vnd.jupyter.widget-view+json": {
       "model_id": "",
       "version_major": 2,
       "version_minor": 0
      },
      "text/plain": [
       "FloatProgress(value=0.0, bar_style='info', description='Progress:', layout=Layout(height='25px', width='50%'),…"
      ]
     },
     "metadata": {},
     "output_type": "display_data"
    },
    {
     "name": "stdout",
     "output_type": "stream",
     "text": [
      "SparkSession available as 'spark'.\n"
     ]
    },
    {
     "data": {
      "application/vnd.jupyter.widget-view+json": {
       "model_id": "",
       "version_major": 2,
       "version_minor": 0
      },
      "text/plain": [
       "FloatProgress(value=0.0, bar_style='info', description='Progress:', layout=Layout(height='25px', width='50%'),…"
      ]
     },
     "metadata": {},
     "output_type": "display_data"
    },
    {
     "name": "stdout",
     "output_type": "stream",
     "text": [
      "Collecting pandas==0.25.1\n",
      "  Downloading https://files.pythonhosted.org/packages/73/9b/52e228545d14f14bb2a1622e225f38463c8726645165e1cb7dde95bfe6d4/pandas-0.25.1-cp36-cp36m-manylinux1_x86_64.whl (10.5MB)\n",
      "Requirement already satisfied: numpy>=1.13.3 in /usr/local/lib64/python3.6/site-packages (from pandas==0.25.1) (1.14.5)\n",
      "Collecting python-dateutil>=2.6.1\n",
      "  Downloading https://files.pythonhosted.org/packages/d4/70/d60450c3dd48ef87586924207ae8907090de0b306af2bce5d134d78615cb/python_dateutil-2.8.1-py2.py3-none-any.whl (227kB)\n",
      "Requirement already satisfied: pytz>=2017.2 in /usr/local/lib/python3.6/site-packages (from pandas==0.25.1) (2019.3)\n",
      "Requirement already satisfied: six>=1.5 in /usr/local/lib/python3.6/site-packages (from python-dateutil>=2.6.1->pandas==0.25.1) (1.12.0)\n",
      "Installing collected packages: python-dateutil, pandas\n",
      "Successfully installed pandas-0.25.1 python-dateutil-2.8.1\n",
      "\n",
      "Collecting s3fs==0.4.0\n",
      "  Downloading https://files.pythonhosted.org/packages/72/5c/ec84c7ec49fde2c3b0d885ecae4504fa40fc77fef7684e9f2939c50f9b94/s3fs-0.4.0-py3-none-any.whl\n",
      "Collecting boto3>=1.9.91\n",
      "  Downloading https://files.pythonhosted.org/packages/67/17/567f679dac6ec93611ce05637094e9736afa40e41c9ed0aaefd90de6f7e8/boto3-1.10.28-py2.py3-none-any.whl (128kB)\n",
      "Collecting botocore>=1.12.91\n",
      "  Downloading https://files.pythonhosted.org/packages/8e/b3/ab9044d3aa14208f5b6f69665d5f82ad9b028809666e4e70dac1ab0bfd3a/botocore-1.13.28-py2.py3-none-any.whl (5.7MB)\n",
      "Collecting fsspec>=0.6.0\n",
      "  Downloading https://files.pythonhosted.org/packages/04/1e/6108c48f2d4ad9ef1a6bff01fb58245c009f37b2bd0505ec6d0f55cc326d/fsspec-0.6.1-py3-none-any.whl (62kB)\n",
      "Collecting s3transfer<0.3.0,>=0.2.0\n",
      "  Downloading https://files.pythonhosted.org/packages/16/8a/1fc3dba0c4923c2a76e1ff0d52b305c44606da63f718d14d3231e21c51b0/s3transfer-0.2.1-py2.py3-none-any.whl (70kB)\n",
      "Requirement already satisfied: jmespath<1.0.0,>=0.7.1 in /usr/local/lib/python3.6/site-packages (from boto3>=1.9.91->s3fs==0.4.0) (0.9.4)\n",
      "Collecting docutils<0.16,>=0.10\n",
      "  Downloading https://files.pythonhosted.org/packages/22/cd/a6aa959dca619918ccb55023b4cb151949c64d4d5d55b3f4ffd7eee0c6e8/docutils-0.15.2-py3-none-any.whl (547kB)\n",
      "Collecting python-dateutil<2.8.1,>=2.1; python_version >= \"2.7\"\n",
      "  Downloading https://files.pythonhosted.org/packages/41/17/c62faccbfbd163c7f57f3844689e3a78bae1f403648a6afb1d0866d87fbb/python_dateutil-2.8.0-py2.py3-none-any.whl (226kB)\n",
      "Collecting urllib3<1.26,>=1.20; python_version >= \"3.4\"\n",
      "  Downloading https://files.pythonhosted.org/packages/b4/40/a9837291310ee1ccc242ceb6ebfd9eb21539649f193a7c8c86ba15b98539/urllib3-1.25.7-py2.py3-none-any.whl (125kB)\n",
      "Requirement already satisfied: six>=1.5 in /usr/local/lib/python3.6/site-packages (from python-dateutil<2.8.1,>=2.1; python_version >= \"2.7\"->botocore>=1.12.91->s3fs==0.4.0) (1.12.0)\n",
      "Installing collected packages: docutils, python-dateutil, urllib3, botocore, s3transfer, boto3, fsspec, s3fs\n",
      "  Found existing installation: python-dateutil 2.8.1\n",
      "    Uninstalling python-dateutil-2.8.1:\n",
      "      Successfully uninstalled python-dateutil-2.8.1\n",
      "Successfully installed boto3-1.10.28 botocore-1.13.28 docutils-0.15.2 fsspec-0.6.1 python-dateutil-2.8.0 s3fs-0.4.0 s3transfer-0.2.1 urllib3-1.25.7"
     ]
    }
   ],
   "source": [
    "from pyspark.sql.functions import col,monotonically_increasing_id,when,lag\n",
    "sc.install_pypi_package(\"pandas==0.25.1\") \n",
    "sc.install_pypi_package(\"s3fs==0.4.0\") \n"
   ]
  },
  {
   "cell_type": "code",
   "execution_count": 2,
   "metadata": {},
   "outputs": [
    {
     "data": {
      "application/vnd.jupyter.widget-view+json": {
       "model_id": "f71b30417b01493998d7c97d77eb592a",
       "version_major": 2,
       "version_minor": 0
      },
      "text/plain": [
       "VBox()"
      ]
     },
     "metadata": {},
     "output_type": "display_data"
    },
    {
     "data": {
      "application/vnd.jupyter.widget-view+json": {
       "model_id": "",
       "version_major": 2,
       "version_minor": 0
      },
      "text/plain": [
       "FloatProgress(value=0.0, bar_style='info', description='Progress:', layout=Layout(height='25px', width='50%'),…"
      ]
     },
     "metadata": {},
     "output_type": "display_data"
    }
   ],
   "source": [
    "# File location and type\n",
    "file_location = \"s3://gps-yanzhaoliang/all.csv\"\n",
    "file_type = \"csv\"\n",
    "\n",
    "# CSV options\n",
    "infer_schema = \"false\"\n",
    "first_row_is_header = \"true\"\n",
    "delimiter = \",\"\n",
    "\n",
    "# The applied options are for CSV files. For other file types, these will be ignored.\n",
    "df1 = spark.read.format(file_type).option(\"inferSchema\", infer_schema).option(\"header\", first_row_is_header).option(\"sep\", delimiter).load(file_location)\n",
    "\n"
   ]
  },
  {
   "cell_type": "code",
   "execution_count": 3,
   "metadata": {},
   "outputs": [
    {
     "data": {
      "application/vnd.jupyter.widget-view+json": {
       "model_id": "e38289e83fa048d18810b94befa0b685",
       "version_major": 2,
       "version_minor": 0
      },
      "text/plain": [
       "VBox()"
      ]
     },
     "metadata": {},
     "output_type": "display_data"
    },
    {
     "data": {
      "application/vnd.jupyter.widget-view+json": {
       "model_id": "",
       "version_major": 2,
       "version_minor": 0
      },
      "text/plain": [
       "FloatProgress(value=0.0, bar_style='info', description='Progress:', layout=Layout(height='25px', width='50%'),…"
      ]
     },
     "metadata": {},
     "output_type": "display_data"
    }
   ],
   "source": [
    "file_location = \"s3://gps-yanzhaoliang/all1.csv\"\n",
    "file_type = \"csv\"\n",
    "\n",
    "# CSV options\n",
    "infer_schema = \"false\"\n",
    "first_row_is_header = \"true\"\n",
    "delimiter = \",\"\n",
    "\n",
    "# The applied options are for CSV files. For other file types, these will be ignored.\n",
    "df2 = spark.read.format(file_type).option(\"inferSchema\", infer_schema).option(\"header\", first_row_is_header).option(\"sep\", delimiter).load(file_location)\n"
   ]
  },
  {
   "cell_type": "code",
   "execution_count": 4,
   "metadata": {},
   "outputs": [
    {
     "data": {
      "application/vnd.jupyter.widget-view+json": {
       "model_id": "53256fb6f8c14c779fe1c2f6de2396a6",
       "version_major": 2,
       "version_minor": 0
      },
      "text/plain": [
       "VBox()"
      ]
     },
     "metadata": {},
     "output_type": "display_data"
    },
    {
     "data": {
      "application/vnd.jupyter.widget-view+json": {
       "model_id": "",
       "version_major": 2,
       "version_minor": 0
      },
      "text/plain": [
       "FloatProgress(value=0.0, bar_style='info', description='Progress:', layout=Layout(height='25px', width='50%'),…"
      ]
     },
     "metadata": {},
     "output_type": "display_data"
    }
   ],
   "source": [
    "file_location = \"s3://gps-yanzhaoliang/all2.csv\"\n",
    "file_type = \"csv\"\n",
    "\n",
    "# CSV options\n",
    "infer_schema = \"false\"\n",
    "first_row_is_header = \"true\"\n",
    "delimiter = \",\"\n",
    "\n",
    "# The applied options are for CSV files. For other file types, these will be ignored.\n",
    "df3 = spark.read.format(file_type).option(\"inferSchema\", infer_schema).option(\"header\", first_row_is_header).option(\"sep\", delimiter).load(file_location)\n"
   ]
  },
  {
   "cell_type": "code",
   "execution_count": 5,
   "metadata": {},
   "outputs": [
    {
     "data": {
      "application/vnd.jupyter.widget-view+json": {
       "model_id": "9464f78ed83b4e5496e74cabeddfe76f",
       "version_major": 2,
       "version_minor": 0
      },
      "text/plain": [
       "VBox()"
      ]
     },
     "metadata": {},
     "output_type": "display_data"
    },
    {
     "data": {
      "application/vnd.jupyter.widget-view+json": {
       "model_id": "",
       "version_major": 2,
       "version_minor": 0
      },
      "text/plain": [
       "FloatProgress(value=0.0, bar_style='info', description='Progress:', layout=Layout(height='25px', width='50%'),…"
      ]
     },
     "metadata": {},
     "output_type": "display_data"
    }
   ],
   "source": [
    "df0 = df1.union(df2)\n",
    "df=df0.union(df3)"
   ]
  },
  {
   "cell_type": "code",
   "execution_count": 6,
   "metadata": {},
   "outputs": [
    {
     "data": {
      "application/vnd.jupyter.widget-view+json": {
       "model_id": "703670d8663e4805b4d47b4af8fe7a8e",
       "version_major": 2,
       "version_minor": 0
      },
      "text/plain": [
       "VBox()"
      ]
     },
     "metadata": {},
     "output_type": "display_data"
    },
    {
     "data": {
      "application/vnd.jupyter.widget-view+json": {
       "model_id": "",
       "version_major": 2,
       "version_minor": 0
      },
      "text/plain": [
       "FloatProgress(value=0.0, bar_style='info', description='Progress:', layout=Layout(height='25px', width='50%'),…"
      ]
     },
     "metadata": {},
     "output_type": "display_data"
    }
   ],
   "source": [
    "df =df.withColumn(\"idx\", monotonically_increasing_id())\n",
    "# because all the client names have been hashed, so, i need to some conversion to make the the client name more clearly.\n"
   ]
  },
  {
   "cell_type": "code",
   "execution_count": 7,
   "metadata": {},
   "outputs": [
    {
     "data": {
      "application/vnd.jupyter.widget-view+json": {
       "model_id": "125375b3be0145dab90b5bd6e035853c",
       "version_major": 2,
       "version_minor": 0
      },
      "text/plain": [
       "VBox()"
      ]
     },
     "metadata": {},
     "output_type": "display_data"
    },
    {
     "data": {
      "application/vnd.jupyter.widget-view+json": {
       "model_id": "",
       "version_major": 2,
       "version_minor": 0
      },
      "text/plain": [
       "FloatProgress(value=0.0, bar_style='info', description='Progress:', layout=Layout(height='25px', width='50%'),…"
      ]
     },
     "metadata": {},
     "output_type": "display_data"
    }
   ],
   "source": [
    "from pyspark.ml.feature import StringIndexer\n",
    "indexer = StringIndexer(inputCol=\"client\", outputCol=\"client_with_order\")\n",
    "indexed = indexer.fit(df).transform(df)\n"
   ]
  },
  {
   "cell_type": "code",
   "execution_count": 8,
   "metadata": {},
   "outputs": [
    {
     "data": {
      "application/vnd.jupyter.widget-view+json": {
       "model_id": "751e77746ae0422a88dccbc096436f4a",
       "version_major": 2,
       "version_minor": 0
      },
      "text/plain": [
       "VBox()"
      ]
     },
     "metadata": {},
     "output_type": "display_data"
    },
    {
     "data": {
      "application/vnd.jupyter.widget-view+json": {
       "model_id": "",
       "version_major": 2,
       "version_minor": 0
      },
      "text/plain": [
       "FloatProgress(value=0.0, bar_style='info', description='Progress:', layout=Layout(height='25px', width='50%'),…"
      ]
     },
     "metadata": {},
     "output_type": "display_data"
    },
    {
     "name": "stdout",
     "output_type": "stream",
     "text": [
      "+-------------------+--------------------+----------+---+-----------+\n",
      "|          timestamp|         client_df_2|        AP|idx|    client1|\n",
      "+-------------------+--------------------+----------+---+-----------+\n",
      "|2014-01-01 00:00:24|b7f22f3abd9f367af...|Bldg11AP21|  0| client2279|\n",
      "|2014-01-01 00:00:30|336501aeaedff0462...| Bldg44AP3|  1|   client59|\n",
      "|2014-01-01 00:00:35|4b912f490ddc1f289...|Bldg48AP65|  2| client4546|\n",
      "|2014-01-01 00:00:40|8e10f9d5aa9c229ba...|Bldg25AP19|  3|client11368|\n",
      "|2014-01-01 00:00:51|680fc4c2bd6b252fd...| Bldg25AP5|  4|   client38|\n",
      "|2014-01-01 00:00:59|d87196dde7bad5815...|Bldg14AP12|  5|client13610|\n",
      "|2014-01-01 00:01:05|980b004cef94929b5...|Bldg16AP22|  6|  client726|\n",
      "|2014-01-01 00:01:15|e7e4501b7195d38ec...|Bldg3AP134|  7|client87752|\n",
      "|2014-01-01 00:01:20|d8891a295b4343f5a...| Bldg44AP2|  8|   client84|\n",
      "|2014-01-01 00:01:20|e7e4501b7195d38ec...|Bldg3AP134|  9|client87752|\n",
      "|2014-01-01 00:01:47|dec63a259f5158845...|Bldg48AP29| 10| client3911|\n",
      "|2014-01-01 00:01:53|1884131dc02e67e4d...| Bldg1AP22| 11| client2669|\n",
      "|2014-01-01 00:02:02|6f7ebdada4c6284e3...|Bldg44AP10| 12| client1168|\n",
      "|2014-01-01 00:02:23|b8272275161d87c29...|Bldg3AP134| 13|client20230|\n",
      "|2014-01-01 00:02:28|6f7ebdada4c6284e3...|Bldg44AP10| 14| client1168|\n",
      "|2014-01-01 00:02:28|8b6f943c23b4491ba...| Bldg44AP2| 15|   client50|\n",
      "|2014-01-01 00:02:36|baa4a017d2ead5a2d...| Bldg44AP4| 16|   client39|\n",
      "|2014-01-01 00:02:45|7db7d065a73e86c7b...|Bldg48AP54| 17|client19568|\n",
      "|2014-01-01 00:03:05|be7dfe965d64de578...|Bldg45AP29| 18|  client701|\n",
      "|2014-01-01 00:03:07|bf79677e9cae980ee...|Bldg25AP19| 19| client9137|\n",
      "+-------------------+--------------------+----------+---+-----------+\n",
      "only showing top 20 rows"
     ]
    }
   ],
   "source": [
    "df_1 = indexed\n",
    "#from pyspark.sql.types import StringType\n",
    "df_2 = df_1.withColumn(\"client_order\",df_1[\"client_with_order\"].cast(\"int\"))\n",
    "df_2 = df_2.withColumn(\"client_order\",df_2[\"client_order\"].cast(\"string\"))\n",
    "from pyspark.sql.functions import lit, concat,col\n",
    "#df_2 = df_2.withColumn(\"client_1\",lit(\"client\"))\n",
    "df_2 = df_2.withColumn('client1', concat( lit('client'), col('client_order')))\n",
    "df_2=df_2.withColumnRenamed('client', 'client_df_2')\n",
    "df_3=df_2.drop('client_with_order','client_order','client_1')\n",
    "df_3.show()"
   ]
  },
  {
   "cell_type": "code",
   "execution_count": 9,
   "metadata": {},
   "outputs": [
    {
     "data": {
      "application/vnd.jupyter.widget-view+json": {
       "model_id": "37e5ff14b81f4d69930062cbd6ac2b01",
       "version_major": 2,
       "version_minor": 0
      },
      "text/plain": [
       "VBox()"
      ]
     },
     "metadata": {},
     "output_type": "display_data"
    },
    {
     "data": {
      "application/vnd.jupyter.widget-view+json": {
       "model_id": "",
       "version_major": 2,
       "version_minor": 0
      },
      "text/plain": [
       "FloatProgress(value=0.0, bar_style='info', description='Progress:', layout=Layout(height='25px', width='50%'),…"
      ]
     },
     "metadata": {},
     "output_type": "display_data"
    },
    {
     "name": "stdout",
     "output_type": "stream",
     "text": [
      "+-------------------+--------------------+----------+---+-----------+--------+\n",
      "|          timestamp|         client_df_2|        AP|idx|    client1|building|\n",
      "+-------------------+--------------------+----------+---+-----------+--------+\n",
      "|2014-01-01 00:00:24|b7f22f3abd9f367af...|Bldg11AP21|  0| client2279|  Bldg11|\n",
      "|2014-01-01 00:00:30|336501aeaedff0462...| Bldg44AP3|  1|   client59|  Bldg44|\n",
      "|2014-01-01 00:00:35|4b912f490ddc1f289...|Bldg48AP65|  2| client4546|  Bldg48|\n",
      "|2014-01-01 00:00:40|8e10f9d5aa9c229ba...|Bldg25AP19|  3|client11368|  Bldg25|\n",
      "|2014-01-01 00:00:51|680fc4c2bd6b252fd...| Bldg25AP5|  4|   client38|  Bldg25|\n",
      "|2014-01-01 00:00:59|d87196dde7bad5815...|Bldg14AP12|  5|client13610|  Bldg14|\n",
      "|2014-01-01 00:01:05|980b004cef94929b5...|Bldg16AP22|  6|  client726|  Bldg16|\n",
      "|2014-01-01 00:01:15|e7e4501b7195d38ec...|Bldg3AP134|  7|client87752|   Bldg3|\n",
      "|2014-01-01 00:01:20|d8891a295b4343f5a...| Bldg44AP2|  8|   client84|  Bldg44|\n",
      "|2014-01-01 00:01:20|e7e4501b7195d38ec...|Bldg3AP134|  9|client87752|   Bldg3|\n",
      "|2014-01-01 00:01:47|dec63a259f5158845...|Bldg48AP29| 10| client3911|  Bldg48|\n",
      "|2014-01-01 00:01:53|1884131dc02e67e4d...| Bldg1AP22| 11| client2669|   Bldg1|\n",
      "|2014-01-01 00:02:02|6f7ebdada4c6284e3...|Bldg44AP10| 12| client1168|  Bldg44|\n",
      "|2014-01-01 00:02:23|b8272275161d87c29...|Bldg3AP134| 13|client20230|   Bldg3|\n",
      "|2014-01-01 00:02:28|6f7ebdada4c6284e3...|Bldg44AP10| 14| client1168|  Bldg44|\n",
      "|2014-01-01 00:02:28|8b6f943c23b4491ba...| Bldg44AP2| 15|   client50|  Bldg44|\n",
      "|2014-01-01 00:02:36|baa4a017d2ead5a2d...| Bldg44AP4| 16|   client39|  Bldg44|\n",
      "|2014-01-01 00:02:45|7db7d065a73e86c7b...|Bldg48AP54| 17|client19568|  Bldg48|\n",
      "|2014-01-01 00:03:05|be7dfe965d64de578...|Bldg45AP29| 18|  client701|  Bldg45|\n",
      "|2014-01-01 00:03:07|bf79677e9cae980ee...|Bldg25AP19| 19| client9137|  Bldg25|\n",
      "+-------------------+--------------------+----------+---+-----------+--------+\n",
      "only showing top 20 rows"
     ]
    }
   ],
   "source": [
    "from pyspark.sql.functions import split\n",
    "split_col = split(df_3['AP'], 'AP')\n",
    "df_3 = df_3.withColumn('building', split_col.getItem(0))\n",
    "df_3.show()\n",
    "#df.filter(df.contains.like('%google.com%'))"
   ]
  },
  {
   "cell_type": "code",
   "execution_count": 10,
   "metadata": {},
   "outputs": [
    {
     "data": {
      "application/vnd.jupyter.widget-view+json": {
       "model_id": "20d99e053abc469d984feb5ee2af5c92",
       "version_major": 2,
       "version_minor": 0
      },
      "text/plain": [
       "VBox()"
      ]
     },
     "metadata": {},
     "output_type": "display_data"
    },
    {
     "data": {
      "application/vnd.jupyter.widget-view+json": {
       "model_id": "",
       "version_major": 2,
       "version_minor": 0
      },
      "text/plain": [
       "FloatProgress(value=0.0, bar_style='info', description='Progress:', layout=Layout(height='25px', width='50%'),…"
      ]
     },
     "metadata": {},
     "output_type": "display_data"
    }
   ],
   "source": [
    "check_in_times=df_3.groupby(\"client1\")\n",
    "from pyspark.sql.functions import desc\n",
    "\n",
    "# check_in_times=check_in_times.count().filter(\"`count` >= 1\").sort(desc(\"count\"))\n",
    "# #filter(\"`count` >= 10\").\n",
    "# check_in_times.show()"
   ]
  },
  {
   "cell_type": "code",
   "execution_count": 11,
   "metadata": {},
   "outputs": [
    {
     "data": {
      "application/vnd.jupyter.widget-view+json": {
       "model_id": "28d519e9996c456a9f60fb3a79418f28",
       "version_major": 2,
       "version_minor": 0
      },
      "text/plain": [
       "VBox()"
      ]
     },
     "metadata": {},
     "output_type": "display_data"
    },
    {
     "data": {
      "application/vnd.jupyter.widget-view+json": {
       "model_id": "",
       "version_major": 2,
       "version_minor": 0
      },
      "text/plain": [
       "FloatProgress(value=0.0, bar_style='info', description='Progress:', layout=Layout(height='25px', width='50%'),…"
      ]
     },
     "metadata": {},
     "output_type": "display_data"
    }
   ],
   "source": [
    "# check_in_times=check_in_times.toPandas()\n",
    "from pyspark.sql.functions import desc\n",
    "check_in_times=check_in_times.count().filter(\"`count` >= 10000\").filter(\"`count` <= 20000\").sort(desc(\"count\"))"
   ]
  },
  {
   "cell_type": "code",
   "execution_count": 12,
   "metadata": {},
   "outputs": [
    {
     "data": {
      "application/vnd.jupyter.widget-view+json": {
       "model_id": "7ea86485ad9c46d19b5905a8df8648fa",
       "version_major": 2,
       "version_minor": 0
      },
      "text/plain": [
       "VBox()"
      ]
     },
     "metadata": {},
     "output_type": "display_data"
    },
    {
     "data": {
      "application/vnd.jupyter.widget-view+json": {
       "model_id": "",
       "version_major": 2,
       "version_minor": 0
      },
      "text/plain": [
       "FloatProgress(value=0.0, bar_style='info', description='Progress:', layout=Layout(height='25px', width='50%'),…"
      ]
     },
     "metadata": {},
     "output_type": "display_data"
    }
   ],
   "source": [
    "list_checkin=check_in_times.select('client1').distinct().collect()\n"
   ]
  },
  {
   "cell_type": "code",
   "execution_count": 13,
   "metadata": {},
   "outputs": [
    {
     "data": {
      "application/vnd.jupyter.widget-view+json": {
       "model_id": "42577d5638a64a98a0b0a1b932af9398",
       "version_major": 2,
       "version_minor": 0
      },
      "text/plain": [
       "VBox()"
      ]
     },
     "metadata": {},
     "output_type": "display_data"
    },
    {
     "data": {
      "application/vnd.jupyter.widget-view+json": {
       "model_id": "",
       "version_major": 2,
       "version_minor": 0
      },
      "text/plain": [
       "FloatProgress(value=0.0, bar_style='info', description='Progress:', layout=Layout(height='25px', width='50%'),…"
      ]
     },
     "metadata": {},
     "output_type": "display_data"
    }
   ],
   "source": [
    "\n",
    "list_checkinids=[list(i.asDict().values())[0] for i in list_checkin]\n"
   ]
  },
  {
   "cell_type": "code",
   "execution_count": 14,
   "metadata": {},
   "outputs": [
    {
     "data": {
      "application/vnd.jupyter.widget-view+json": {
       "model_id": "ba022cc589744b87a0b818cb9fb4ffdf",
       "version_major": 2,
       "version_minor": 0
      },
      "text/plain": [
       "VBox()"
      ]
     },
     "metadata": {},
     "output_type": "display_data"
    },
    {
     "data": {
      "application/vnd.jupyter.widget-view+json": {
       "model_id": "",
       "version_major": 2,
       "version_minor": 0
      },
      "text/plain": [
       "FloatProgress(value=0.0, bar_style='info', description='Progress:', layout=Layout(height='25px', width='50%'),…"
      ]
     },
     "metadata": {},
     "output_type": "display_data"
    }
   ],
   "source": [
    "dfArray = [df_3.where(df_3.client1 == x) for x in list_checkinids]"
   ]
  },
  {
   "cell_type": "code",
   "execution_count": 15,
   "metadata": {},
   "outputs": [
    {
     "data": {
      "application/vnd.jupyter.widget-view+json": {
       "model_id": "dc674da731b64890b8db095b074236b5",
       "version_major": 2,
       "version_minor": 0
      },
      "text/plain": [
       "VBox()"
      ]
     },
     "metadata": {},
     "output_type": "display_data"
    },
    {
     "data": {
      "application/vnd.jupyter.widget-view+json": {
       "model_id": "c1f6d5f288e647beb6bb8e6ae226d4ed",
       "version_major": 2,
       "version_minor": 0
      },
      "text/plain": [
       "FloatProgress(value=0.0, bar_style='info', description='Progress:', layout=Layout(height='25px', width='50%'),…"
      ]
     },
     "metadata": {},
     "output_type": "display_data"
    },
    {
     "name": "stderr",
     "output_type": "stream",
     "text": [
      "An error was encountered:\n",
      "Invalid status code '400' from https://172.31.89.105:18888/sessions/0/statements/15 with error payload: {\"msg\":\"requirement failed: Session isn't active.\"}\n"
     ]
    }
   ],
   "source": [
    "for i in range(318,1400):\n",
    "    df_client=dfArray[i]\n",
    "    df_client.toPandas().to_csv(\"s3://gps-yanzhaoliang/markov/client\"+str(i)+\".csv\")"
   ]
  },
  {
   "cell_type": "code",
   "execution_count": null,
   "metadata": {},
   "outputs": [],
   "source": []
  }
 ],
 "metadata": {
  "kernelspec": {
   "display_name": "PySpark",
   "language": "",
   "name": "pysparkkernel"
  },
  "language_info": {
   "codemirror_mode": {
    "name": "python",
    "version": 2
   },
   "mimetype": "text/x-python",
   "name": "pyspark",
   "pygments_lexer": "python2"
  }
 },
 "nbformat": 4,
 "nbformat_minor": 4
}
